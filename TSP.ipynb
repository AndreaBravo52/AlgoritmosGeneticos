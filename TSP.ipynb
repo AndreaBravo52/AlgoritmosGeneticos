{
  "nbformat": 4,
  "nbformat_minor": 0,
  "metadata": {
    "colab": {
      "provenance": [],
      "include_colab_link": true
    },
    "kernelspec": {
      "name": "python3",
      "display_name": "Python 3"
    },
    "language_info": {
      "name": "python"
    }
  },
  "cells": [
    {
      "cell_type": "markdown",
      "metadata": {
        "id": "view-in-github",
        "colab_type": "text"
      },
      "source": [
        "<a href=\"https://colab.research.google.com/github/AndreaBravo52/AlgoritmosGeneticos/blob/main/TSP.ipynb\" target=\"_parent\"><img src=\"https://colab.research.google.com/assets/colab-badge.svg\" alt=\"Open In Colab\"/></a>"
      ]
    },
    {
      "cell_type": "code",
      "execution_count": null,
      "metadata": {
        "colab": {
          "base_uri": "https://localhost:8080/"
        },
        "id": "WkLZ-aSNnKGe",
        "outputId": "763f2062-8a2f-47d1-a126-342732b65a70"
      },
      "outputs": [
        {
          "output_type": "stream",
          "name": "stdout",
          "text": [
            "El camino a seguir es:\n",
            "[ 1 11  8  2  5  6 13 15 14  3 10  7  9 16  4 12  1]\n",
            "El costo es:\n",
            "100850\n",
            "Tiempo para ejecutarse en segundos:  3.149301528930664\n"
          ]
        }
      ],
      "source": [
        "import time\n",
        "inicio = time.time()\n",
        "\n",
        "time.sleep(1)\n",
        "import random\n",
        "import numpy\n",
        "# Implements the random initialization of individuals using the binary representation.\n",
        "def createIndividual(nbBits):\n",
        "  individuo = [1] * nbBits\n",
        "  ruta=[2,3,4,5,6,7,8,9,10,11,12,13,14,15,16]\n",
        "  random.shuffle(ruta)\n",
        "  individuo[1:16]=ruta\n",
        "  return individuo\n",
        "# Implements the one point crossover on individuals using the binary representation.\n",
        "def combine(parentA, parentB, cRate):\n",
        "  if (random.random() <= cRate):\n",
        "    cPoint = numpy.random.randint(1, len(parentA))\n",
        "    offspringA = numpy.append(parentA[0:cPoint], parentB[cPoint:])\n",
        "    offspringB = numpy.append(parentB[0:cPoint], parentA[cPoint:])\n",
        "  else:\n",
        "    offspringA = numpy.copy(parentA)\n",
        "    offspringB = numpy.copy(parentB)\n",
        "  return offspringA, offspringB\n",
        "# Implements the flip mutation on individuals using the binary representation.\n",
        "def mutate(individual, mRate):\n",
        "  if (random.random() <= mRate):\n",
        "    aPoint = numpy.random.randint(1, 16)\n",
        "    bPoint = numpy.random.randint(1, 16)\n",
        "    x=individual[aPoint]\n",
        "    y=individual[bPoint]\n",
        "    individual[aPoint]=y\n",
        "    individual[bPoint]=x\n",
        "  return individual\n",
        "# Implements the fitness function of individuals using the binary representation and solving the max-one problem.\n",
        "def evaluate(individual):\n",
        "  cost=numpy.matrix([[9999999,7800,600,4200,8700,9300,5300,8000,4800,900,4700,27000,11000,10000,3400,3600],\n",
        "                 [7800,9999999,6700,9500,1600,2500,5300,700,4400,9900,3500,33000,4400,16000,5600,7300],\n",
        "                 [600,6700,9999999,4200,9400,7700,5400,8300,4800,1100,6200,27000,11000,9600,3200,3600],\n",
        "                 [4200,9500,4200,9999999,9700,10000,5700,9300,5700,4800,8400,24000,11000,14000,7200,2700],\n",
        "                 [8700,1600,9400,9700,9999999,1100,5600,1500,5500,9800,3500,32800,3000,16600,5500,7600],\n",
        "                 [9300,2500,7700,10000,1100,9999999,5600,2000,5600,10100,4100,31700,1900,16900,6200,7600],\n",
        "                 [5300,5300,5400,5700,5600,5600,9999999,4600,650,6100,4600,27900,6900,15200,6600,2700],\n",
        "                 [8000,700,8300,9300,2000,2000,4600,9999999,4600,9200,2800,31900,3900,15500,4800,6600],\n",
        "                 [4800,4400,4800,5700,5600,5600,650,4600,9999999,6400,5100,27600,6600,15500,6900,2600],\n",
        "                 [900,9900,1100,4800,10100,10100,6100,9200,6400,9999999,6700,26100,11700,10100,4600,4400],\n",
        "                 [4700,3500,6200,8400,4100,4100,4600,2800,5100,6700,9999999,31000,5900,13400,2400,5600],\n",
        "                 [27000,33000,27000,24000,31700,31700,27900,31900,27600,26100,31000,9999999,32400,34400,30100,25500],\n",
        "                 [11000,4400,1100,11000,1900,1900,6900,3900,6600,11700,5900,32400,9999999,18500,8000,8900],\n",
        "                 [10000,16000,4600,14000,16900,16900,15200,15500,15500,10100,13400,34400,18500,9999999,11300,13500],\n",
        "                 [3400,5600,3200,7200,6200,6200,6600,4800,6900,4600,2400,30100,8000,11300,9999999,4900],\n",
        "                 [3600,7300,3600,2700,7600,7600,2700,6600,2600,4400,5600,25500,8900,13500,4900,9999999]])\n",
        "  z=0\n",
        "  for i in range(len(individual)-1):\n",
        "    z=z+cost[individual[i]-1,individual[i+1]-1]\n",
        "  return z\n",
        "# Implements the tournament selection.\n",
        "def select(population, evaluation, tournamentSize):\n",
        "  winner = numpy.random.randint(0, len(population))\n",
        "  for i in range(tournamentSize - 1):\n",
        "    rival = numpy.random.randint(0, len(population))\n",
        "    if (evaluation[rival] < evaluation[winner]):\n",
        "      winner = rival\n",
        "  return population[winner]\n",
        "# Implements a genetic algorithm for solving the max-one problem with individuals using the binary representation.\n",
        "def geneticAlgorithm(n, populationSize, cRate, mRate, generations):\n",
        "  # Creates the initial population (it also evaluates it)\n",
        "  population = [None] * populationSize\n",
        "  evaluation = [None] * populationSize\n",
        "  for i in range(populationSize):\n",
        "    individual = createIndividual(n)\n",
        "    population[i] = individual\n",
        "    evaluation[i] = evaluate(individual)\n",
        "  # Keeps a record of the best individual found so far\n",
        "  index = 0;\n",
        "  for i in range(1, populationSize):\n",
        "    if (evaluation[i] < evaluation[index]):\n",
        "      index = i;\n",
        "  bestIndividual = population[index]\n",
        "  bestEvaluation = evaluation[index]\n",
        "  # Runs the evolutionary process\n",
        "  for i in range(generations):\n",
        "    k = 0\n",
        "    newPopulation = [None] * populationSize\n",
        "    for j in range(populationSize // 2):\n",
        "      parentA = select(population, evaluation, 3)\n",
        "      parentB = select(population, evaluation, 3)\n",
        "      newPopulation[k], newPopulation[k + 1] = combine(parentA, parentB, 0.01)\n",
        "      k = k + 2\n",
        "    population = newPopulation\n",
        "    for j in range(populationSize):\n",
        "      population[j] = mutate(population[j], mRate)\n",
        "      evaluation[j] = evaluate(population[j])\n",
        "      # Keeps a record of the best individual found so far\n",
        "      if (evaluation[j] < bestEvaluation):\n",
        "        bestEvaluation = evaluation[j]\n",
        "        bestIndividual = population[j]\n",
        "  return bestIndividual, bestEvaluation\n",
        "# solves the problem using the genetic algorithm\n",
        "solution, evaluation = geneticAlgorithm(17, 30, 0.9, 0.1, 1000)\n",
        "print('El camino a seguir es:')\n",
        "print(solution)\n",
        "print('El costo es:')\n",
        "print(evaluation)\n",
        "fin = time.time()\n",
        "print(\"Tiempo para ejecutarse en segundos: \", fin-inicio)"
      ]
    }
  ]
}