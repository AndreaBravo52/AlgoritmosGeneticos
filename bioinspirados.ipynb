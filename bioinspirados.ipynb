{
  "nbformat": 4,
  "nbformat_minor": 0,
  "metadata": {
    "colab": {
      "provenance": [],
      "include_colab_link": true
    },
    "kernelspec": {
      "name": "python3",
      "display_name": "Python 3"
    },
    "language_info": {
      "name": "python"
    }
  },
  "cells": [
    {
      "cell_type": "markdown",
      "metadata": {
        "id": "view-in-github",
        "colab_type": "text"
      },
      "source": [
        "<a href=\"https://colab.research.google.com/github/AndreaBravo52/AlgoritmosGeneticos/blob/main/bioinspirados.ipynb\" target=\"_parent\"><img src=\"https://colab.research.google.com/assets/colab-badge.svg\" alt=\"Open In Colab\"/></a>"
      ]
    },
    {
      "cell_type": "markdown",
      "source": [
        "# Bioinspirados problema de centros de emergencia"
      ],
      "metadata": {
        "id": "IVWjEqne405K"
      }
    },
    {
      "cell_type": "code",
      "execution_count": null,
      "metadata": {
        "id": "NA1da8XW4zOd"
      },
      "outputs": [],
      "source": [
        "import numpy as np\n",
        "import time"
      ]
    },
    {
      "cell_type": "code",
      "source": [
        "inicio = time.time() #para medir el tiempo\n",
        "M=[1,2,3,4,5] #regiones\n",
        "N=[1,2,3,4] #centros\n",
        "c=[20,10,30,25]\n",
        "a=np.matrix([[0,1,1,0],[1,1,0,1],[1,0,1,0],[0,1,0,0],[1,1,0,1],])\n",
        "c_s=np.sort(c)\n",
        "i=c.index(c_s[0])\n",
        "j=0\n",
        "z=0\n",
        "w=0\n",
        "costo=0\n",
        "respuesta=[]\n",
        "for z in range(0,3):\n",
        "  i=c.index(c_s[z])\n",
        "  for h in range(0,4):\n",
        "    if a[h,i]==1:\n",
        "      j=j+1\n",
        "  respuesta.append(i)\n",
        "  if (j==5):\n",
        "    print('Los centros a construir son:')\n",
        "    print(respuesta)\n",
        "    for w in range(0,len(respuesta)):\n",
        "      costo=costo+c[respuesta[w]]\n",
        "    print('El costó será de:')\n",
        "    print(costo)\n",
        "\n",
        "fin = time.time()\n",
        "print('El tiempo de ejecución fue de:')\n",
        "print(fin-inicio)\n"
      ],
      "metadata": {
        "colab": {
          "base_uri": "https://localhost:8080/"
        },
        "id": "PlyxmoBM5z5W",
        "outputId": "e2c591d7-3f4a-4674-a17e-ae0a55e7445d"
      },
      "execution_count": null,
      "outputs": [
        {
          "output_type": "stream",
          "name": "stdout",
          "text": [
            "Los centros a construir son:\n",
            "[1, 0]\n",
            "El costó será de:\n",
            "30\n",
            "El tiempo de ejecución fue de:\n",
            "0.0011692047119140625\n"
          ]
        }
      ]
    }
  ]
}