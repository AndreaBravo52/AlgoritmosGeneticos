{
  "nbformat": 4,
  "nbformat_minor": 0,
  "metadata": {
    "colab": {
      "provenance": [],
      "include_colab_link": true
    },
    "kernelspec": {
      "name": "python3",
      "display_name": "Python 3"
    },
    "language_info": {
      "name": "python"
    }
  },
  "cells": [
    {
      "cell_type": "markdown",
      "metadata": {
        "id": "view-in-github",
        "colab_type": "text"
      },
      "source": [
        "<a href=\"https://colab.research.google.com/github/AndreaBravo52/AlgoritmosGeneticos/blob/main/PAV.ipynb\" target=\"_parent\"><img src=\"https://colab.research.google.com/assets/colab-badge.svg\" alt=\"Open In Colab\"/></a>"
      ]
    },
    {
      "cell_type": "code",
      "execution_count": null,
      "metadata": {
        "colab": {
          "base_uri": "https://localhost:8080/"
        },
        "id": "WkLZ-aSNnKGe",
        "outputId": "8b16ec1a-1de7-4127-9789-16b889ad39c0"
      },
      "outputs": [
        {
          "output_type": "stream",
          "name": "stdout",
          "text": [
            "[1 6 5 4 8 2 3 7 1]\n",
            "3998\n"
          ]
        }
      ],
      "source": [
        "import random\n",
        "import numpy\n",
        "# Implements the random initialization of individuals using the binary representation.\n",
        "def createIndividual(nbBits):\n",
        "  individuo = [1] * nbBits\n",
        "  ruta=[2,3,4,5,6,7,8]\n",
        "  random.shuffle(ruta)\n",
        "  individuo[1:8]=ruta\n",
        "  return individuo\n",
        "# Implements the one point crossover on individuals using the binary representation.\n",
        "def combine(parentA, parentB, cRate):\n",
        "  if (random.random() <= cRate):\n",
        "    cPoint = numpy.random.randint(1, len(parentA))\n",
        "    offspringA = numpy.append(parentA[0:cPoint], parentB[cPoint:])\n",
        "    offspringB = numpy.append(parentB[0:cPoint], parentA[cPoint:])\n",
        "  else:\n",
        "    offspringA = numpy.copy(parentA)\n",
        "    offspringB = numpy.copy(parentB)\n",
        "  return offspringA, offspringB\n",
        "# Implements the flip mutation on individuals using the binary representation.\n",
        "def mutate(individual, mRate):\n",
        "  if (random.random() <= mRate):\n",
        "    aPoint = numpy.random.randint(1, 8)\n",
        "    bPoint = numpy.random.randint(1, 8)\n",
        "    x=individual[aPoint]\n",
        "    y=individual[bPoint]\n",
        "    individual[aPoint]=y\n",
        "    individual[bPoint]=x\n",
        "  return individual\n",
        "# Implements the fitness function of individuals using the binary representation and solving the max-one problem.\n",
        "def evaluate(individual):\n",
        "  cost=numpy.matrix([[9999, 772,  466,\t996,\t1143,\t87,   889,\t760],\n",
        "                   [772,\t9999,\t322,\t629,\t776,\t682,\t1171,\t389],\n",
        "                   [466,\t322,\t9999,\t652,\t799,\t373,\t882,\t416],\n",
        "                   [996,\t629,\t652,\t9999,\t138,\t905,\t1521,\t240],\n",
        "                   [1143,\t776,\t799,\t138,\t9999,\t1051,\t1668,\t387],\n",
        "                   [87,\t  682,\t373,\t905,\t1051,\t9999,\t805,\t674],\n",
        "                   [889,\t1171,\t882,\t1521,\t1688,\t805,\t9999,\t1297],\n",
        "                   [760,\t389,\t416,\t240,\t387,\t674,\t1297,\t9999]])\n",
        "  z=0\n",
        "  for i in range(len(individual)-1):\n",
        "    z=z+cost[individual[i]-1,individual[i+1]-1]\n",
        "  return z\n",
        "# Implements the tournament selection.\n",
        "def select(population, evaluation, tournamentSize):\n",
        "  winner = numpy.random.randint(0, len(population))\n",
        "  for i in range(tournamentSize - 1):\n",
        "    rival = numpy.random.randint(0, len(population))\n",
        "    if (evaluation[rival] < evaluation[winner]):\n",
        "      winner = rival\n",
        "  return population[winner]\n",
        "# Implements a genetic algorithm for solving the max-one problem with individuals using the binary representation.\n",
        "def geneticAlgorithm(n, populationSize, cRate, mRate, generations):\n",
        "  # Creates the initial population (it also evaluates it)\n",
        "  population = [None] * populationSize\n",
        "  evaluation = [None] * populationSize\n",
        "  for i in range(populationSize):\n",
        "    individual = createIndividual(n)\n",
        "    population[i] = individual\n",
        "    evaluation[i] = evaluate(individual)\n",
        "  # Keeps a record of the best individual found so far\n",
        "  index = 0;\n",
        "  for i in range(1, populationSize):\n",
        "    if (evaluation[i] < evaluation[index]):\n",
        "      index = i;\n",
        "  bestIndividual = population[index]\n",
        "  bestEvaluation = evaluation[index]\n",
        "  # Runs the evolutionary process\n",
        "  for i in range(generations):\n",
        "    k = 0\n",
        "    newPopulation = [None] * populationSize\n",
        "    for j in range(populationSize // 2):\n",
        "      parentA = select(population, evaluation, 3)\n",
        "      parentB = select(population, evaluation, 3)\n",
        "      newPopulation[k], newPopulation[k + 1] = combine(parentA, parentB, cRate)\n",
        "      k = k + 2\n",
        "    population = newPopulation\n",
        "    for j in range(populationSize):\n",
        "      population[j] = mutate(population[j], mRate)\n",
        "      evaluation[j] = evaluate(population[j])\n",
        "      # Keeps a record of the best individual found so far\n",
        "      if (evaluation[j] < bestEvaluation):\n",
        "        bestEvaluation = evaluation[j]\n",
        "        bestIndividual = population[j]\n",
        "  return bestIndividual, bestEvaluation\n",
        "# solves the problem using the genetic algorithm\n",
        "solution, evaluation = geneticAlgorithm(9, 30, 0.01, 0.1, 1000)\n",
        "print(solution)\n",
        "print(evaluation)"
      ]
    },
    {
      "cell_type": "code",
      "source": [],
      "metadata": {
        "id": "MYwIC2DbouYs"
      },
      "execution_count": null,
      "outputs": []
    },
    {
      "cell_type": "code",
      "source": [
        "individuo = [1] * 8\n",
        "individuo[1]=10\n",
        "individuo"
      ],
      "metadata": {
        "colab": {
          "base_uri": "https://localhost:8080/"
        },
        "id": "E7vtaTCppQ8O",
        "outputId": "a23c1256-1976-4865-e833-a04ba4db1e7b"
      },
      "execution_count": null,
      "outputs": [
        {
          "output_type": "execute_result",
          "data": {
            "text/plain": [
              "[1, 10, 1, 1, 1, 1, 1, 1]"
            ]
          },
          "metadata": {},
          "execution_count": 8
        }
      ]
    },
    {
      "cell_type": "code",
      "source": [
        "ruta=[2,3,4,5,6,7,8]\n",
        "random.shuffle(ruta)\n",
        "ruta"
      ],
      "metadata": {
        "colab": {
          "base_uri": "https://localhost:8080/"
        },
        "id": "xxMEDOfrp5FL",
        "outputId": "00a83a2c-033c-400c-9c5c-077cbc4b7c6c"
      },
      "execution_count": null,
      "outputs": [
        {
          "output_type": "execute_result",
          "data": {
            "text/plain": [
              "[4, 2, 5, 3, 7, 8, 6]"
            ]
          },
          "metadata": {},
          "execution_count": 14
        }
      ]
    },
    {
      "cell_type": "code",
      "source": [
        "individuo = [1] * 9\n",
        "ruta=[2,3,4,5,6,7,8]\n",
        "random.shuffle(ruta)\n",
        "individuo[1:8]=ruta\n",
        "individuo"
      ],
      "metadata": {
        "colab": {
          "base_uri": "https://localhost:8080/"
        },
        "id": "hbaVarUQqPEW",
        "outputId": "cce2def0-8291-40ed-cf50-bd72006d0c09"
      },
      "execution_count": null,
      "outputs": [
        {
          "output_type": "execute_result",
          "data": {
            "text/plain": [
              "[1, 5, 6, 3, 4, 2, 8, 7, 1]"
            ]
          },
          "metadata": {},
          "execution_count": 19
        }
      ]
    },
    {
      "cell_type": "code",
      "source": [
        "cPoint = numpy.random.randint(1, 8)\n",
        "cPoint"
      ],
      "metadata": {
        "colab": {
          "base_uri": "https://localhost:8080/"
        },
        "id": "wQi5A1whrSA3",
        "outputId": "4d2cc5b5-3e00-4698-e3cf-9e6eaedf9655"
      },
      "execution_count": null,
      "outputs": [
        {
          "output_type": "execute_result",
          "data": {
            "text/plain": [
              "2"
            ]
          },
          "metadata": {},
          "execution_count": 48
        }
      ]
    },
    {
      "cell_type": "code",
      "source": [
        "individual = [1] * 9\n",
        "ruta=[2,3,4,5,6,7,8]\n",
        "random.shuffle(ruta)\n",
        "individual[1:8]=ruta\n",
        "individual"
      ],
      "metadata": {
        "colab": {
          "base_uri": "https://localhost:8080/"
        },
        "id": "8zOIja_2r9dB",
        "outputId": "cbbbb240-0a9c-4521-b9d1-9d824c541f7f"
      },
      "execution_count": null,
      "outputs": [
        {
          "output_type": "execute_result",
          "data": {
            "text/plain": [
              "[1, 6, 5, 4, 7, 8, 2, 3, 1]"
            ]
          },
          "metadata": {},
          "execution_count": 49
        }
      ]
    },
    {
      "cell_type": "code",
      "source": [
        "aPoint = numpy.random.randint(1, 8)\n",
        "bPoint = numpy.random.randint(1, 8)\n",
        "print(aPoint)\n",
        "print(bPoint)"
      ],
      "metadata": {
        "colab": {
          "base_uri": "https://localhost:8080/"
        },
        "id": "ovzloj7UsB_H",
        "outputId": "ff7c93f5-dbea-40de-dafb-4fce9c86124f"
      },
      "execution_count": null,
      "outputs": [
        {
          "output_type": "stream",
          "name": "stdout",
          "text": [
            "6\n",
            "4\n"
          ]
        }
      ]
    },
    {
      "cell_type": "code",
      "source": [
        "\n",
        "x=individual[aPoint]\n",
        "y=individual[bPoint]\n",
        "individual[aPoint]=y\n",
        "individual[bPoint]=x\n",
        "individual"
      ],
      "metadata": {
        "colab": {
          "base_uri": "https://localhost:8080/"
        },
        "id": "G9MAQLP4r4uf",
        "outputId": "3dce4b1e-0a4b-4aff-e625-1c9722c295c8"
      },
      "execution_count": null,
      "outputs": [
        {
          "output_type": "execute_result",
          "data": {
            "text/plain": [
              "[1, 6, 5, 4, 2, 8, 7, 3, 1]"
            ]
          },
          "metadata": {},
          "execution_count": 51
        }
      ]
    },
    {
      "cell_type": "code",
      "source": [
        "cost=numpy.matrix([[9999, 772,  466,\t996,\t1143,\t87,   889,\t760],\n",
        "                   [772,\t9999,\t322,\t629,\t776,\t682,\t1171,\t389],\n",
        "                   [466,\t322,\t9999,\t652,\t799,\t373,\t882,\t416],\n",
        "                   [996,\t629,\t652,\t9999,\t138,\t905,\t1521,\t240],\n",
        "                   [1143,\t776,\t799,\t138,\t9999,\t1051,\t1668,\t387],\n",
        "                   [87,\t  682,\t373,\t905,\t1051,\t9999,\t805,\t674],\n",
        "                   [889,\t1171,\t882,\t1521,\t1688,\t805,\t9999,\t1297],\n",
        "                   [760,\t389,\t416,\t240,\t387,\t674,\t1297,\t9999]])\n",
        "cost[1,0]"
      ],
      "metadata": {
        "colab": {
          "base_uri": "https://localhost:8080/"
        },
        "id": "29AU_Mses-78",
        "outputId": "8a581452-0dc5-4b72-e61e-313454e4e949"
      },
      "execution_count": null,
      "outputs": [
        {
          "output_type": "execute_result",
          "data": {
            "text/plain": [
              "772"
            ]
          },
          "metadata": {},
          "execution_count": 54
        }
      ]
    },
    {
      "cell_type": "code",
      "source": [
        "i=0\n",
        "for i in range(len(individual)):\n",
        "  print(individual[i])"
      ],
      "metadata": {
        "colab": {
          "base_uri": "https://localhost:8080/"
        },
        "id": "WiCvaT98uXT-",
        "outputId": "48a93ded-6d67-4999-f082-4db21bc24bde"
      },
      "execution_count": null,
      "outputs": [
        {
          "output_type": "stream",
          "name": "stdout",
          "text": [
            "1\n",
            "6\n",
            "5\n",
            "4\n",
            "2\n",
            "8\n",
            "7\n",
            "3\n",
            "1\n"
          ]
        }
      ]
    },
    {
      "cell_type": "code",
      "source": [
        "cost[individual[0]-1,individual[1]-1]"
      ],
      "metadata": {
        "colab": {
          "base_uri": "https://localhost:8080/"
        },
        "id": "mBn_FylLu4rj",
        "outputId": "4d5d63da-398f-4547-e475-ee051995dd13"
      },
      "execution_count": null,
      "outputs": [
        {
          "output_type": "execute_result",
          "data": {
            "text/plain": [
              "87"
            ]
          },
          "metadata": {},
          "execution_count": 61
        }
      ]
    },
    {
      "cell_type": "code",
      "source": [
        "z=0\n",
        "for i in range(len(individual)-1):\n",
        "    z=z+cost[individual[i]-1,individual[i+1]-1]\n",
        "    print(individual[i+1])\n",
        "print(z)"
      ],
      "metadata": {
        "colab": {
          "base_uri": "https://localhost:8080/"
        },
        "id": "QZtMYNQDvWFc",
        "outputId": "aaec2aad-080e-44ce-d801-73e4a31e771c"
      },
      "execution_count": null,
      "outputs": [
        {
          "output_type": "stream",
          "name": "stdout",
          "text": [
            "6\n",
            "5\n",
            "4\n",
            "2\n",
            "8\n",
            "7\n",
            "3\n",
            "1\n",
            "4939\n"
          ]
        }
      ]
    }
  ]
}